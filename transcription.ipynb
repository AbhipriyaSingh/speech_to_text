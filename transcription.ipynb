{
 "cells": [
  {
   "cell_type": "code",
   "execution_count": 1,
   "id": "a83f5c0e",
   "metadata": {},
   "outputs": [
    {
     "name": "stderr",
     "output_type": "stream",
     "text": [
      "C:\\Users\\singh\\anaconda3\\envs\\whisper\\lib\\site-packages\\tqdm\\auto.py:21: TqdmWarning: IProgress not found. Please update jupyter and ipywidgets. See https://ipywidgets.readthedocs.io/en/stable/user_install.html\n",
      "  from .autonotebook import tqdm as notebook_tqdm\n",
      "C:\\Users\\singh\\anaconda3\\envs\\whisper\\lib\\site-packages\\mysql\\connector\\abstracts.py:130: SyntaxWarning: \"is\" with a literal. Did you mean \"==\"?\n",
      "  if group is 'connector_python':\n",
      "C:\\Users\\singh\\anaconda3\\envs\\whisper\\lib\\site-packages\\mysql\\connector\\abstracts.py:130: SyntaxWarning: \"is\" with a literal. Did you mean \"==\"?\n",
      "  if group is 'connector_python':\n",
      "\n",
      "KeyboardInterrupt\n",
      "\n"
     ]
    }
   ],
   "source": [
    "import sys\n",
    "import boto3\n",
    "import os\n",
    "from datetime import time, timedelta , datetime\n",
    "import time as tm\n",
    "import glob\n",
    "from pathlib import Path\n",
    "import sys\n",
    "import datetime\n",
    "from datetime import datetime\n",
    "import pytz\n",
    "import re\n",
    "import pathlib\n",
    "import requests\n",
    "import ffmpeg\n",
    "import datetime\n",
    "\n",
    "import mysql.connector\n",
    "import whisper\n",
    "import numpy as np\n",
    "import torch\n",
    "\n",
    "\n",
    "mydb = mysql.connector.connect(\n",
    "    host=\"workstories.cgmgwhqhbj1b.us-east-1.rds.amazonaws.com\",\n",
    "    user=\"user\",\n",
    "    password=\"password\",\n",
    "    database=\"database\",\n",
    "    port = \"port\"\n",
    ")\n",
    "\n",
    "\n",
    "utc=pytz.UTC\n",
    "bucket_name = \"workstories\"\n",
    "cur_path = os.getcwd()\n",
    "folder_path = r'C:\\Users\\singh\\downloaded_s3'\n",
    "latest = datetime.datetime(2022, 12, 22, 0, 0,0,tzinfo = utc)\n",
    "client = boto3.client(service_name = 's3',\n",
    "                      aws_access_key_id= 'aws_access_key_id',\n",
    "                      aws_secret_access_key='secret_access_key')\n",
    "\n",
    "paginator = client.get_paginator('list_objects_v2')\n",
    "mycursor = mydb.cursor()\n",
    "while True:\n",
    "    list_files = [obj for page in paginator.paginate(Bucket=\"workstories\") for obj in page[\"Contents\"] if obj['LastModified'] > latest]\n",
    "    for file in list_files:\n",
    "        url = 'https://workstories.s3.amazonaws.com/'\n",
    "        item_value = file['Key']\n",
    "        url = url+file['Key']\n",
    "        x = requests.head(url)\n",
    "        file_format = x.headers['Content-Type']\n",
    "        match = re.search(\"/\", file_format)\n",
    "        res = file_format[match.end():]\n",
    "        filename = os.path.join(folder_path, file['Key']+'.'+res)\n",
    "        current = file['LastModified']\n",
    "        \n",
    "        if (current > latest and pathlib.Path(filename).suffix == '.mp4'):\n",
    "            print(\"Downloading File: \", filename , current)\n",
    "            print(\"\\n\")\n",
    "            client.download_file(\n",
    "                Bucket = \"workstories\",\n",
    "                Key = file['Key'],\n",
    "                Filename = str(filename))\n",
    "            model = whisper.load_model(\"base\")\n",
    "            result = model.transcribe(filename)\n",
    "            transcripted_text = result[\"text\"]\n",
    "            print(\"transcribe result = \", transcripted_text)\n",
    "            \n",
    "            mycursor.execute (\"\"\"UPDATE media \n",
    "            SET transcription = %s\n",
    "            WHERE item=%s\"\"\", (transcripted_text, item_value))\n",
    "            mydb.commit()\n",
    "            os.remove(filename)\n",
    "            latest = current\n",
    "            \n",
    "mycursor.close()\n",
    "mydb.close()            \n",
    "\n"
   ]
  },
  {
   "cell_type": "code",
   "execution_count": null,
   "id": "1c595a4e",
   "metadata": {},
   "outputs": [],
   "source": [
    "pip freeze >requirements.txt\n"
   ]
  }
 ],
 "metadata": {
  "kernelspec": {
   "display_name": "Python 3 (ipykernel)",
   "language": "python",
   "name": "python3"
  },
  "language_info": {
   "codemirror_mode": {
    "name": "ipython",
    "version": 3
   },
   "file_extension": ".py",
   "mimetype": "text/x-python",
   "name": "python",
   "nbconvert_exporter": "python",
   "pygments_lexer": "ipython3",
   "version": "3.9.16"
  }
 },
 "nbformat": 4,
 "nbformat_minor": 5
}
